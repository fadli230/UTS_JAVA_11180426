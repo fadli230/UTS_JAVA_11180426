{
 "cells": [
  {
   "cell_type": "markdown",
   "metadata": {},
   "source": [
    "Project UTS SI-S1\n",
    "Rancang sebuah Class bangun ruang LIMAS SEGILIMA dengan kemampuan menghitung Volume dari bangun ruang tersebut.\n",
    "Buatlah sebuah aplikasi untuk implementasi class dari point no 1 dalam jupyter notebook ini\n",
    "Lakukan rancang kompunen-kompunen yang dibutuhkan\n",
    "Lakukan Enskapsulasi dari class pada point no 1\n",
    "Berikan penjelasan dari kode yang anda buat (dalam notebook tersebut).\n",
    "Lakukan Eksekusi / Run sebelum upload ke github.\n",
    "• Upload File Notebook ini (*.ipynb) ke folder github anda paling lambat pada saat jadwal UTS."
   ]
  },
  {
   "cell_type": "code",
   "execution_count": 1,
   "metadata": {},
   "outputs": [
    {
     "data": {
      "text/plain": [
       "com.twosigma.beaker.javash.bkrdb9be38c.volume_limas"
      ]
     },
     "execution_count": 1,
     "metadata": {},
     "output_type": "execute_result"
    }
   ],
   "source": [
    "import java.util.Scanner;\n",
    "public class volume_limas {\n",
    "      static int lebar;\n",
    "      static int panjang;\n",
    "      static int volume;\n",
    "      static int tinggi;\n",
    "      private static Scanner v;\n",
    "     \n",
    "public static void main(String[] args){  \n",
    "           \n",
    "      v = new Scanner(System.in);\n",
    "      System.out.println(\"Masukan Panjang Limas :\");\n",
    "      panjang=v.nextInt();\n",
    "           \n",
    "      System.out.println(\"Masukan Lebar Limas :\");\n",
    "      lebar=v.nextInt();\n",
    "           \n",
    "      System.out.println(\"Masukan Tinggi Limas :\");\n",
    "      tinggi=v.nextInt();\n",
    "           \n",
    "      // rumus Volume Limas = 1/3 x (1/2 x panjang x lebar) x tinggi\n",
    "      volume = (((panjang*lebar)*1/2)*tinggi)*1/3;   \n",
    "      System.out.println(\"\\nHasil dari volume limas = \" +volume);\n",
    "           \n",
    "}}"
   ]
  },
  {
   "cell_type": "code",
   "execution_count": null,
   "metadata": {},
   "outputs": [],
   "source": []
  }
 ],
 "metadata": {
  "kernelspec": {
   "display_name": "Java",
   "language": "java",
   "name": "java"
  },
  "language_info": {
   "codemirror_mode": "text/x-java",
   "file_extension": ".java",
   "mimetype": "",
   "name": "Java",
   "nbconverter_exporter": "",
   "version": "1.8.0_121"
  },
  "toc": {
   "base_numbering": 1,
   "nav_menu": {},
   "number_sections": false,
   "sideBar": false,
   "skip_h1_title": false,
   "title_cell": "Table of Contents",
   "title_sidebar": "Contents",
   "toc_cell": false,
   "toc_position": {},
   "toc_section_display": false,
   "toc_window_display": false
  }
 },
 "nbformat": 4,
 "nbformat_minor": 4
}
